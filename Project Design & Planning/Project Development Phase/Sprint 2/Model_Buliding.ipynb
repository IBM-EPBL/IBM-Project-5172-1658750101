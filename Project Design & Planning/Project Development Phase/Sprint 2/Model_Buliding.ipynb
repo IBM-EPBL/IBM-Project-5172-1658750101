{
  "cells": [
    {
      "cell_type": "markdown",
      "id": "a7e43d20",
      "metadata": {
        "id": "a7e43d20"
      },
      "source": [
        "# **Importing The Required Libraries - B8-2A4E**\n",
        "\n"
      ]
    },
    {
      "cell_type": "code",
      "execution_count": null,
      "id": "27d4e4b4",
      "metadata": {
        "id": "27d4e4b4"
      },
      "outputs": [],
      "source": [
        "import numpy\n",
        "import tensorflow #open source used for both ML and DL for computation\n",
        "from tensorflow.keras.datasets import mnist #mnist dataset that we are going to model by using\n",
        "from tensorflow.keras.models import Sequential #it is a plain stack of layers\n",
        "from tensorflow.keras import layers #A Layer consists of a tensor-in tensor-out computation function\n",
        "from tensorflow.keras.layers import Dense, Flatten #Dense-Dense Layer is the regular deeply connected r\n",
        "#flatten -used for flattening the input or change the dimension\n",
        "from tensorflow.keras.layers import Conv2D #ConvoLutional Layer\n",
        "from keras.optimizers import Adam #optimizer\n",
        "from keras. utils import np_utils #used for one-hot encoding\n",
        "import matplotlib.pyplot as plt   #used for data visualization"
      ]
    },
    {
      "cell_type": "markdown",
      "id": "b1e22b31",
      "metadata": {
        "id": "b1e22b31"
      },
      "source": [
        "# **Loading The DataSet - B8-2A4E**\n",
        "\n",
        "\n",
        "\n",
        "\n"
      ]
    },
    {
      "cell_type": "code",
      "execution_count": null,
      "id": "bafa45f6",
      "metadata": {
        "colab": {
          "base_uri": "https://localhost:8080/"
        },
        "id": "bafa45f6",
        "outputId": "81c8cd2d-d292-4715-a1bd-74e24d02e904"
      },
      "outputs": [
        {
          "output_type": "stream",
          "name": "stdout",
          "text": [
            "Downloading data from https://storage.googleapis.com/tensorflow/tf-keras-datasets/mnist.npz\n",
            "11490434/11490434 [==============================] - 0s 0us/step\n"
          ]
        }
      ],
      "source": [
        "(x_train, y_train), (x_test, y_test)=mnist.load_data () #splitting the mnist dataset into train and test data"
      ]
    },
    {
      "cell_type": "code",
      "execution_count": null,
      "id": "d646784a",
      "metadata": {
        "colab": {
          "base_uri": "https://localhost:8080/"
        },
        "id": "d646784a",
        "outputId": "07f3a2ac-242d-4b61-d9ed-5b1dc1438765"
      },
      "outputs": [
        {
          "output_type": "stream",
          "name": "stdout",
          "text": [
            "(60000, 28, 28)\n",
            "(10000, 28, 28)\n"
          ]
        }
      ],
      "source": [
        "print (x_train.shape)  #shape is used for give the dimens ion values #60000-rows 28x28-pixels(columns)\n",
        "print (x_test.shape)   #To check our dataset shape...."
      ]
    },
    {
      "cell_type": "markdown",
      "id": "1f978ef5",
      "metadata": {
        "id": "1f978ef5"
      },
      "source": [
        "# **Understanding The DataSet - B8-2A4E**"
      ]
    },
    {
      "cell_type": "code",
      "execution_count": null,
      "id": "74a739e0",
      "metadata": {
        "colab": {
          "base_uri": "https://localhost:8080/"
        },
        "id": "74a739e0",
        "outputId": "49987d58-fd3c-4de4-bc2d-91e183aaa5bc"
      },
      "outputs": [
        {
          "output_type": "execute_result",
          "data": {
            "text/plain": [
              "array([[  0,   0,   0,   0,   0,   0,   0,   0,   0,   0,   0,   0,   0,\n",
              "          0,   0,   0,   0,   0,   0,   0,   0,   0,   0,   0,   0,   0,\n",
              "          0,   0],\n",
              "       [  0,   0,   0,   0,   0,   0,   0,   0,   0,   0,   0,   0,   0,\n",
              "          0,   0,   0,   0,   0,   0,   0,   0,   0,   0,   0,   0,   0,\n",
              "          0,   0],\n",
              "       [  0,   0,   0,   0,   0,   0,   0,   0,   0,   0,   0,   0,   0,\n",
              "          0,   0,   0,   0,   0,   0,   0,   0,   0,   0,   0,   0,   0,\n",
              "          0,   0],\n",
              "       [  0,   0,   0,   0,   0,   0,   0,   0,   0,   0,   0,   0,   0,\n",
              "          0,   0,   0,   0,   0,   0,   0,   0,   0,   0,   0,   0,   0,\n",
              "          0,   0],\n",
              "       [  0,   0,   0,   0,   0,   0,   0,   0,   0,   0,   0,   0,   0,\n",
              "          0,   0,   0,   0,   0,   0,   0,   0,   0,   0,   0,   0,   0,\n",
              "          0,   0],\n",
              "       [  0,   0,   0,   0,   0,   0,   0,   0,   0,   0,   0,   0,   3,\n",
              "         18,  18,  18, 126, 136, 175,  26, 166, 255, 247, 127,   0,   0,\n",
              "          0,   0],\n",
              "       [  0,   0,   0,   0,   0,   0,   0,   0,  30,  36,  94, 154, 170,\n",
              "        253, 253, 253, 253, 253, 225, 172, 253, 242, 195,  64,   0,   0,\n",
              "          0,   0],\n",
              "       [  0,   0,   0,   0,   0,   0,   0,  49, 238, 253, 253, 253, 253,\n",
              "        253, 253, 253, 253, 251,  93,  82,  82,  56,  39,   0,   0,   0,\n",
              "          0,   0],\n",
              "       [  0,   0,   0,   0,   0,   0,   0,  18, 219, 253, 253, 253, 253,\n",
              "        253, 198, 182, 247, 241,   0,   0,   0,   0,   0,   0,   0,   0,\n",
              "          0,   0],\n",
              "       [  0,   0,   0,   0,   0,   0,   0,   0,  80, 156, 107, 253, 253,\n",
              "        205,  11,   0,  43, 154,   0,   0,   0,   0,   0,   0,   0,   0,\n",
              "          0,   0],\n",
              "       [  0,   0,   0,   0,   0,   0,   0,   0,   0,  14,   1, 154, 253,\n",
              "         90,   0,   0,   0,   0,   0,   0,   0,   0,   0,   0,   0,   0,\n",
              "          0,   0],\n",
              "       [  0,   0,   0,   0,   0,   0,   0,   0,   0,   0,   0, 139, 253,\n",
              "        190,   2,   0,   0,   0,   0,   0,   0,   0,   0,   0,   0,   0,\n",
              "          0,   0],\n",
              "       [  0,   0,   0,   0,   0,   0,   0,   0,   0,   0,   0,  11, 190,\n",
              "        253,  70,   0,   0,   0,   0,   0,   0,   0,   0,   0,   0,   0,\n",
              "          0,   0],\n",
              "       [  0,   0,   0,   0,   0,   0,   0,   0,   0,   0,   0,   0,  35,\n",
              "        241, 225, 160, 108,   1,   0,   0,   0,   0,   0,   0,   0,   0,\n",
              "          0,   0],\n",
              "       [  0,   0,   0,   0,   0,   0,   0,   0,   0,   0,   0,   0,   0,\n",
              "         81, 240, 253, 253, 119,  25,   0,   0,   0,   0,   0,   0,   0,\n",
              "          0,   0],\n",
              "       [  0,   0,   0,   0,   0,   0,   0,   0,   0,   0,   0,   0,   0,\n",
              "          0,  45, 186, 253, 253, 150,  27,   0,   0,   0,   0,   0,   0,\n",
              "          0,   0],\n",
              "       [  0,   0,   0,   0,   0,   0,   0,   0,   0,   0,   0,   0,   0,\n",
              "          0,   0,  16,  93, 252, 253, 187,   0,   0,   0,   0,   0,   0,\n",
              "          0,   0],\n",
              "       [  0,   0,   0,   0,   0,   0,   0,   0,   0,   0,   0,   0,   0,\n",
              "          0,   0,   0,   0, 249, 253, 249,  64,   0,   0,   0,   0,   0,\n",
              "          0,   0],\n",
              "       [  0,   0,   0,   0,   0,   0,   0,   0,   0,   0,   0,   0,   0,\n",
              "          0,  46, 130, 183, 253, 253, 207,   2,   0,   0,   0,   0,   0,\n",
              "          0,   0],\n",
              "       [  0,   0,   0,   0,   0,   0,   0,   0,   0,   0,   0,   0,  39,\n",
              "        148, 229, 253, 253, 253, 250, 182,   0,   0,   0,   0,   0,   0,\n",
              "          0,   0],\n",
              "       [  0,   0,   0,   0,   0,   0,   0,   0,   0,   0,  24, 114, 221,\n",
              "        253, 253, 253, 253, 201,  78,   0,   0,   0,   0,   0,   0,   0,\n",
              "          0,   0],\n",
              "       [  0,   0,   0,   0,   0,   0,   0,   0,  23,  66, 213, 253, 253,\n",
              "        253, 253, 198,  81,   2,   0,   0,   0,   0,   0,   0,   0,   0,\n",
              "          0,   0],\n",
              "       [  0,   0,   0,   0,   0,   0,  18, 171, 219, 253, 253, 253, 253,\n",
              "        195,  80,   9,   0,   0,   0,   0,   0,   0,   0,   0,   0,   0,\n",
              "          0,   0],\n",
              "       [  0,   0,   0,   0,  55, 172, 226, 253, 253, 253, 253, 244, 133,\n",
              "         11,   0,   0,   0,   0,   0,   0,   0,   0,   0,   0,   0,   0,\n",
              "          0,   0],\n",
              "       [  0,   0,   0,   0, 136, 253, 253, 253, 212, 135, 132,  16,   0,\n",
              "          0,   0,   0,   0,   0,   0,   0,   0,   0,   0,   0,   0,   0,\n",
              "          0,   0],\n",
              "       [  0,   0,   0,   0,   0,   0,   0,   0,   0,   0,   0,   0,   0,\n",
              "          0,   0,   0,   0,   0,   0,   0,   0,   0,   0,   0,   0,   0,\n",
              "          0,   0],\n",
              "       [  0,   0,   0,   0,   0,   0,   0,   0,   0,   0,   0,   0,   0,\n",
              "          0,   0,   0,   0,   0,   0,   0,   0,   0,   0,   0,   0,   0,\n",
              "          0,   0],\n",
              "       [  0,   0,   0,   0,   0,   0,   0,   0,   0,   0,   0,   0,   0,\n",
              "          0,   0,   0,   0,   0,   0,   0,   0,   0,   0,   0,   0,   0,\n",
              "          0,   0]], dtype=uint8)"
            ]
          },
          "metadata": {},
          "execution_count": 7
        }
      ],
      "source": [
        "x_train[0]   #Here x_train is a normal NumPy N-D array"
      ]
    },
    {
      "cell_type": "code",
      "execution_count": null,
      "id": "140a39bc",
      "metadata": {
        "colab": {
          "base_uri": "https://localhost:8080/"
        },
        "id": "140a39bc",
        "outputId": "6c040684-da7e-4cac-db69-bbb312621e6b"
      },
      "outputs": [
        {
          "output_type": "execute_result",
          "data": {
            "text/plain": [
              "5"
            ]
          },
          "metadata": {},
          "execution_count": 8
        }
      ],
      "source": [
        "y_train[0]"
      ]
    },
    {
      "cell_type": "code",
      "execution_count": null,
      "id": "70274e05",
      "metadata": {
        "colab": {
          "base_uri": "https://localhost:8080/",
          "height": 283
        },
        "id": "70274e05",
        "outputId": "22fd1aae-a955-4ed7-c42e-b5e015e23f83"
      },
      "outputs": [
        {
          "output_type": "execute_result",
          "data": {
            "text/plain": [
              "<matplotlib.image.AxesImage at 0x7fcb2812e350>"
            ]
          },
          "metadata": {},
          "execution_count": 10
        },
        {
          "output_type": "display_data",
          "data": {
            "text/plain": [
              "<Figure size 432x288 with 1 Axes>"
            ],
            "image/png": "[encoded data removed]"
          },
          "metadata": {
            "needs_background": "light"
          }
        }
      ],
      "source": [
        "plt.imshow(x_train[3999])     #Ploting the train data at index=3999 (randomly chosen)"
      ]
    },
    {
      "cell_type": "markdown",
      "id": "75efebf8",
      "metadata": {
        "id": "75efebf8"
      },
      "source": [
        "# **Reshaping The Data  - B8-2A4E**"
      ]
    },
    {
      "cell_type": "code",
      "execution_count": null,
      "id": "eaf84332",
      "metadata": {
        "id": "eaf84332"
      },
      "outputs": [],
      "source": [
        "#Reshaping to format which the  CNN  architecture accepts (batch, height, width, channels)\n",
        "x_train=x_train.reshape (60000, 28, 28, 1).astype('float32')\n",
        "x_test=x_test.reshape (10000, 28, 28, 1).astype ('float32')"
      ]
    },
    {
      "cell_type": "markdown",
      "id": "58fdbfc8",
      "metadata": {
        "id": "58fdbfc8"
      },
      "source": [
        "# **One Hot Encoding  - B8-2A4E**"
      ]
    },
    {
      "cell_type": "code",
      "execution_count": null,
      "id": "bb844934",
      "metadata": {
        "id": "bb844934"
      },
      "outputs": [],
      "source": [
        "number_of_classes = 10  #storing the no of classes in a variable, here the classes are - 0,1,2,3,4,5,6,7,8 and 9"
      ]
    },
    {
      "cell_type": "code",
      "execution_count": null,
      "id": "45b8a054",
      "metadata": {
        "id": "45b8a054"
      },
      "outputs": [],
      "source": [
        "y_train = np_utils.to_categorical (y_train, number_of_classes) #converts the output in binary format\n",
        "y_test = np_utils.to_categorical (y_test, number_of_classes)"
      ]
    },
    {
      "cell_type": "code",
      "execution_count": null,
      "id": "6c225a94",
      "metadata": {
        "colab": {
          "base_uri": "https://localhost:8080/"
        },
        "id": "6c225a94",
        "outputId": "28571c3d-022b-438b-c6c5-61aab351ddb1"
      },
      "outputs": [
        {
          "output_type": "execute_result",
          "data": {
            "text/plain": [
              "array([0., 0., 0., 0., 0., 1., 0., 0., 0., 0.], dtype=float32)"
            ]
          },
          "metadata": {},
          "execution_count": 15
        }
      ],
      "source": [
        "y_train[0] #Printing the new label for y"
      ]
    },
    {
      "cell_type": "markdown",
      "id": "f7ffa815",
      "metadata": {
        "id": "f7ffa815"
      },
      "source": [
        "# **Adding CNN Layers  - B8-2A4E**\n"
      ]
    },
    {
      "cell_type": "code",
      "execution_count": null,
      "id": "360229a8",
      "metadata": {
        "id": "360229a8"
      },
      "outputs": [],
      "source": [
        "#create model\n",
        "model=Sequential ()\n",
        "#Adding convolutional layer to our Dummy Sequential model\n",
        "model.add(Conv2D(64, (3, 3), input_shape=(28, 28, 1), activation='relu'))\n",
        "model.add(Conv2D(32, (3, 3), activation = 'relu'))\n",
        "#flatten the dimension of the image\n",
        "model.add(Flatten())\n",
        "#Output layer with 10 neurons and activation as SoftMax activation function\n",
        "model.add(Dense(number_of_classes,activation = 'softmax'))\n"
      ]
    },
    {
      "cell_type": "markdown",
      "id": "d8b13290",
      "metadata": {
        "id": "d8b13290"
      },
      "source": [
        "# **Compiling The Model  - B8-2A4E**\n"
      ]
    },
    {
      "cell_type": "code",
      "execution_count": null,
      "id": "d7a49987",
      "metadata": {
        "id": "d7a49987"
      },
      "outputs": [],
      "source": [
        "#Compile model\n",
        "model.compile(loss= 'categorical_crossentropy', optimizer=\"Adam\", metrics=['accuracy'])"
      ]
    },
    {
      "cell_type": "markdown",
      "id": "ff6c6024",
      "metadata": {
        "id": "ff6c6024"
      },
      "source": [
        "\n",
        "# **Train The Model  - B8-2A4E**"
      ]
    },
    {
      "cell_type": "code",
      "execution_count": null,
      "id": "9213040b",
      "metadata": {
        "colab": {
          "base_uri": "https://localhost:8080/"
        },
        "id": "9213040b",
        "outputId": "e16e76c4-528a-4a6f-b09d-b72d36557804"
      },
      "outputs": [
        {
          "output_type": "stream",
          "name": "stdout",
          "text": [
            "Epoch 1/5\n",
            "1875/1875 [==============================] - 212s 113ms/step - loss: 0.3290 - accuracy: 0.9495 - val_loss: 0.1078 - val_accuracy: 0.9657\n",
            "Epoch 2/5\n",
            "1875/1875 [==============================] - 195s 104ms/step - loss: 0.0764 - accuracy: 0.9769 - val_loss: 0.0899 - val_accuracy: 0.9736\n",
            "Epoch 3/5\n",
            "1875/1875 [==============================] - 196s 105ms/step - loss: 0.0505 - accuracy: 0.9840 - val_loss: 0.0877 - val_accuracy: 0.9776\n",
            "Epoch 4/5\n",
            "1875/1875 [==============================] - 198s 106ms/step - loss: 0.0388 - accuracy: 0.9872 - val_loss: 0.0947 - val_accuracy: 0.9766\n",
            "Epoch 5/5\n",
            "1875/1875 [==============================] - 197s 105ms/step - loss: 0.0326 - accuracy: 0.9899 - val_loss: 0.1033 - val_accuracy: 0.9762\n"
          ]
        },
        {
          "output_type": "execute_result",
          "data": {
            "text/plain": [
              "<keras.callbacks.History at 0x7fcb23ea6a90>"
            ]
          },
          "metadata": {},
          "execution_count": 18
        }
      ],
      "source": [
        "#fit the model\n",
        "model.fit(x_train, y_train, validation_data=(x_test, y_test), epochs=5, batch_size=32)"
      ]
    },
    {
      "cell_type": "markdown",
      "id": "fb836b2b",
      "metadata": {
        "id": "fb836b2b"
      },
      "source": [
        "# **Observing The Metrics - B8-2A4E**\n"
      ]
    },
    {
      "cell_type": "code",
      "execution_count": null,
      "id": "9972ecc3",
      "metadata": {
        "colab": {
          "base_uri": "https://localhost:8080/"
        },
        "id": "9972ecc3",
        "outputId": "d5a25e9a-a3cf-4281-ec22-70993efda732"
      },
      "outputs": [
        {
          "output_type": "stream",
          "name": "stdout",
          "text": [
            "Metrics (Test loss , Test Accuracy) : \n",
            "[0.10334664583206177, 0.9761999845504761]\n"
          ]
        }
      ],
      "source": [
        "# Final evaluation of the model\n",
        "metrics = model.evaluate(x_test, y_test, verbose=0)\n",
        "print(\"Metrics (Test loss , Test Accuracy) : \")\n",
        "print(metrics)"
      ]
    },
    {
      "cell_type": "markdown",
      "id": "21947ca0",
      "metadata": {
        "id": "21947ca0"
      },
      "source": [
        "# **Test The Model - B8-2A4E**\n"
      ]
    },
    {
      "cell_type": "code",
      "execution_count": null,
      "id": "2690ec2f",
      "metadata": {
        "colab": {
          "base_uri": "https://localhost:8080/"
        },
        "id": "2690ec2f",
        "outputId": "f3f98c28-f079-41cb-c841-cd8ecbcc6ad1"
      },
      "outputs": [
        {
          "output_type": "stream",
          "name": "stdout",
          "text": [
            "1/1 [==============================] - 0s 99ms/step\n",
            "[[3.3727764e-18 6.7769869e-17 1.0804476e-14 2.3811828e-07 1.3555480e-05\n",
            "  1.2017592e-10 2.3059111e-18 1.8840929e-09 9.0457757e-09 9.9998617e-01]]\n"
          ]
        }
      ],
      "source": [
        "prediction=model.predict(x_test[6000:6001])\n",
        "print(prediction)"
      ]
    },
    {
      "cell_type": "code",
      "execution_count": null,
      "id": "37955f0b",
      "metadata": {
        "colab": {
          "base_uri": "https://localhost:8080/"
        },
        "id": "37955f0b",
        "outputId": "98d696f9-a596-4489-f1a4-a35bc0de1d8a"
      },
      "outputs": [
        {
          "output_type": "stream",
          "name": "stdout",
          "text": [
            "[9]\n"
          ]
        },
        {
          "output_type": "execute_result",
          "data": {
            "text/plain": [
              "3"
            ]
          },
          "metadata": {},
          "execution_count": 22
        }
      ],
      "source": [
        "import numpy as np\n",
        "print(np.argmax(prediction, axis=1)) #printing our Labels from first 4 images\n",
        "np.argmax(y_test[5000:5001]) #printing the actual labels"
      ]
    },
    {
      "cell_type": "markdown",
      "id": "5c83772a",
      "metadata": {
        "id": "5c83772a"
      },
      "source": [
        "# **Save The Model - B8-2A4E**\n"
      ]
    },
    {
      "cell_type": "code",
      "execution_count": null,
      "id": "6619a902",
      "metadata": {
        "id": "6619a902"
      },
      "outputs": [],
      "source": [
        "# Save the model\n",
        "model.save('/models/project.h5')"
      ]
    }
  ],
  "metadata": {
    "kernelspec": {
      "display_name": "Python 3 (ipykernel)",
      "language": "python",
      "name": "python3"
    },
    "language_info": {
      "codemirror_mode": {
        "name": "ipython",
        "version": 3
      },
      "file_extension": ".py",
      "mimetype": "text/x-python",
      "name": "python",
      "nbconvert_exporter": "python",
      "pygments_lexer": "ipython3",
      "version": "3.10.4"
    },
    "colab": {
      "provenance": []
    }
  },
  "nbformat": 4,
  "nbformat_minor": 5
}